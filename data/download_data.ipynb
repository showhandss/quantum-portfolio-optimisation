{
 "metadata": {
  "language_info": {
   "codemirror_mode": {
    "name": "ipython",
    "version": 3
   },
   "file_extension": ".py",
   "mimetype": "text/x-python",
   "name": "python",
   "nbconvert_exporter": "python",
   "pygments_lexer": "ipython3",
   "version": "3.8.8"
  },
  "orig_nbformat": 2,
  "kernelspec": {
   "name": "python3",
   "display_name": "Python 3.8.8 64-bit ('base': conda)"
  },
  "interpreter": {
   "hash": "68427c26fce60f0abcad7d141e2fa62abfa6d5f31305d5bf20c70b37ca48f744"
  }
 },
 "nbformat": 4,
 "nbformat_minor": 2,
 "cells": [
  {
   "cell_type": "code",
   "execution_count": 2,
   "source": [
    "import pandas as pd\r\n",
    "import yfinance as yf\r\n",
    "from yahoofinancials import YahooFinancials"
   ],
   "outputs": [],
   "metadata": {}
  },
  {
   "cell_type": "code",
   "execution_count": 3,
   "source": [
    "assets = ['TSLA', 'MSFT', 'GOOG', 'PFE', 'AAPL', 'AMZN', 'SPY', 'ICLN', 'XOM', 'WBA']"
   ],
   "outputs": [],
   "metadata": {
    "tags": []
   }
  },
  {
   "cell_type": "code",
   "execution_count": 7,
   "source": [
    "for asset in assets:\r\n",
    "    yahoo_financials = YahooFinancials(asset)\r\n",
    "    data = yahoo_financials.get_historical_price_data(start_date='2010-01-01', end_date='2020-07-01', time_interval='daily')\r\n",
    "    df = pd.DataFrame(data[asset]['prices'])\r\n",
    "    df = df.drop('date', axis=1).set_index('formatted_date')\r\n",
    "    Path = f'unmodified/{asset}'\r\n",
    "    df.to_csv(Path)"
   ],
   "outputs": [],
   "metadata": {}
  },
  {
   "cell_type": "code",
   "execution_count": 8,
   "source": [
    "df.head()"
   ],
   "outputs": [
    {
     "output_type": "execute_result",
     "data": {
      "text/plain": [
       "                     high        low       open      close    volume  \\\n",
       "formatted_date                                                         \n",
       "2010-01-04      37.299999  36.639999  37.009998  37.299999   8171000   \n",
       "2010-01-05      37.160000  36.619999  37.099998  37.000000  10843200   \n",
       "2010-01-06      37.290001  35.919998  36.160000  36.720001   8945400   \n",
       "2010-01-07      37.000000  36.470001  36.689999  36.939999   5040700   \n",
       "2010-01-08      37.070000  36.650002  36.919998  36.990002   6139800   \n",
       "\n",
       "                 adjclose  \n",
       "formatted_date             \n",
       "2010-01-04      28.084206  \n",
       "2010-01-05      27.858330  \n",
       "2010-01-06      27.647511  \n",
       "2010-01-07      27.813150  \n",
       "2010-01-08      27.850805  "
      ],
      "text/html": [
       "<div>\n",
       "<style scoped>\n",
       "    .dataframe tbody tr th:only-of-type {\n",
       "        vertical-align: middle;\n",
       "    }\n",
       "\n",
       "    .dataframe tbody tr th {\n",
       "        vertical-align: top;\n",
       "    }\n",
       "\n",
       "    .dataframe thead th {\n",
       "        text-align: right;\n",
       "    }\n",
       "</style>\n",
       "<table border=\"1\" class=\"dataframe\">\n",
       "  <thead>\n",
       "    <tr style=\"text-align: right;\">\n",
       "      <th></th>\n",
       "      <th>high</th>\n",
       "      <th>low</th>\n",
       "      <th>open</th>\n",
       "      <th>close</th>\n",
       "      <th>volume</th>\n",
       "      <th>adjclose</th>\n",
       "    </tr>\n",
       "    <tr>\n",
       "      <th>formatted_date</th>\n",
       "      <th></th>\n",
       "      <th></th>\n",
       "      <th></th>\n",
       "      <th></th>\n",
       "      <th></th>\n",
       "      <th></th>\n",
       "    </tr>\n",
       "  </thead>\n",
       "  <tbody>\n",
       "    <tr>\n",
       "      <th>2010-01-04</th>\n",
       "      <td>37.299999</td>\n",
       "      <td>36.639999</td>\n",
       "      <td>37.009998</td>\n",
       "      <td>37.299999</td>\n",
       "      <td>8171000</td>\n",
       "      <td>28.084206</td>\n",
       "    </tr>\n",
       "    <tr>\n",
       "      <th>2010-01-05</th>\n",
       "      <td>37.160000</td>\n",
       "      <td>36.619999</td>\n",
       "      <td>37.099998</td>\n",
       "      <td>37.000000</td>\n",
       "      <td>10843200</td>\n",
       "      <td>27.858330</td>\n",
       "    </tr>\n",
       "    <tr>\n",
       "      <th>2010-01-06</th>\n",
       "      <td>37.290001</td>\n",
       "      <td>35.919998</td>\n",
       "      <td>36.160000</td>\n",
       "      <td>36.720001</td>\n",
       "      <td>8945400</td>\n",
       "      <td>27.647511</td>\n",
       "    </tr>\n",
       "    <tr>\n",
       "      <th>2010-01-07</th>\n",
       "      <td>37.000000</td>\n",
       "      <td>36.470001</td>\n",
       "      <td>36.689999</td>\n",
       "      <td>36.939999</td>\n",
       "      <td>5040700</td>\n",
       "      <td>27.813150</td>\n",
       "    </tr>\n",
       "    <tr>\n",
       "      <th>2010-01-08</th>\n",
       "      <td>37.070000</td>\n",
       "      <td>36.650002</td>\n",
       "      <td>36.919998</td>\n",
       "      <td>36.990002</td>\n",
       "      <td>6139800</td>\n",
       "      <td>27.850805</td>\n",
       "    </tr>\n",
       "  </tbody>\n",
       "</table>\n",
       "</div>"
      ]
     },
     "metadata": {},
     "execution_count": 8
    }
   ],
   "metadata": {}
  },
  {
   "cell_type": "code",
   "execution_count": null,
   "source": [],
   "outputs": [],
   "metadata": {}
  }
 ]
}
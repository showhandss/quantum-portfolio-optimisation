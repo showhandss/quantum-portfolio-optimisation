{
 "metadata": {
  "language_info": {
   "codemirror_mode": {
    "name": "ipython",
    "version": 3
   },
   "file_extension": ".py",
   "mimetype": "text/x-python",
   "name": "python",
   "nbconvert_exporter": "python",
   "pygments_lexer": "ipython3",
   "version": "3.8.8"
  },
  "orig_nbformat": 2,
  "kernelspec": {
   "name": "python3",
   "display_name": "Python 3.8.8 64-bit ('base': conda)"
  },
  "interpreter": {
   "hash": "68427c26fce60f0abcad7d141e2fa62abfa6d5f31305d5bf20c70b37ca48f744"
  }
 },
 "nbformat": 4,
 "nbformat_minor": 2,
 "cells": [
  {
   "cell_type": "code",
   "execution_count": 1,
   "source": [
    "import pandas as pd"
   ],
   "outputs": [],
   "metadata": {}
  },
  {
   "cell_type": "code",
   "execution_count": 10,
   "source": [
    "main_df = pd.DataFrame()\r\n",
    "assets = ['TSLA', 'MSFT', 'GOOG', 'PFE', 'AAPL', 'AMZN', 'SPY', 'ICLN', 'XOM', 'WBA']\r\n",
    "for asset in assets:\r\n",
    "    dataset = f'./unmodified/{asset}'\r\n",
    "    df = pd.read_csv(dataset, names=['high','low','open','close','volume','adjclose'])\r\n",
    "    df = df[['adjclose']][1:]\r\n",
    "    header = [f'{asset}']\r\n",
    "    df.columns = header\r\n",
    "    \r\n",
    "    if len(main_df)==0:\r\n",
    "        main_df = df\r\n",
    "    else:\r\n",
    "        main_df = main_df.join(df)\r\n",
    "\r\n",
    "main_df.fillna(method='ffill', inplace=True)\r\n",
    "main_df.dropna(inplace=True)\r\n",
    "main_df.head()\r\n",
    "Path = './cleaned/dataframe'\r\n",
    "main_df.to_csv(Path)"
   ],
   "outputs": [],
   "metadata": {}
  },
  {
   "cell_type": "code",
   "execution_count": null,
   "source": [],
   "outputs": [],
   "metadata": {}
  }
 ]
}